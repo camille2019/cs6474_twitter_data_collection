{
 "cells": [
  {
   "cell_type": "code",
   "execution_count": 25,
   "metadata": {},
   "outputs": [
    {
     "name": "stderr",
     "output_type": "stream",
     "text": [
      "[nltk_data] Downloading package vader_lexicon to\n",
      "[nltk_data]     C:\\Users\\liana\\AppData\\Roaming\\nltk_data...\n",
      "[nltk_data]   Package vader_lexicon is already up-to-date!\n"
     ]
    }
   ],
   "source": [
    "import nltk\n",
    "nltk.download('vader_lexicon')\n",
    "from nltk.sentiment.vader import SentimentIntensityAnalyzer"
   ]
  },
  {
   "cell_type": "code",
   "execution_count": 26,
   "metadata": {},
   "outputs": [],
   "source": [
    "sid = SentimentIntensityAnalyzer()"
   ]
  },
  {
   "cell_type": "code",
   "execution_count": 27,
   "metadata": {},
   "outputs": [
    {
     "name": "stdout",
     "output_type": "stream",
     "text": [
      "{'neg': 0.0, 'neu': 0.508, 'pos': 0.492, 'compound': 0.4404}\n"
     ]
    }
   ],
   "source": [
    "a = 'This was a good movie.'\n",
    "output = sid.polarity_scores(a)\n",
    "print(output)"
   ]
  },
  {
   "cell_type": "code",
   "execution_count": 28,
   "metadata": {},
   "outputs": [],
   "source": [
    "import numpy as np\n",
    "import pandas as pd"
   ]
  },
  {
   "cell_type": "code",
   "execution_count": 29,
   "metadata": {},
   "outputs": [
    {
     "data": {
      "text/html": [
       "<div>\n",
       "<style scoped>\n",
       "    .dataframe tbody tr th:only-of-type {\n",
       "        vertical-align: middle;\n",
       "    }\n",
       "\n",
       "    .dataframe tbody tr th {\n",
       "        vertical-align: top;\n",
       "    }\n",
       "\n",
       "    .dataframe thead th {\n",
       "        text-align: right;\n",
       "    }\n",
       "</style>\n",
       "<table border=\"1\" class=\"dataframe\">\n",
       "  <thead>\n",
       "    <tr style=\"text-align: right;\">\n",
       "      <th></th>\n",
       "      <th>Unnamed: 0</th>\n",
       "      <th>tweet_id</th>\n",
       "      <th>author_id</th>\n",
       "      <th>date</th>\n",
       "      <th>text</th>\n",
       "      <th>lang</th>\n",
       "      <th>name_searched</th>\n",
       "    </tr>\n",
       "  </thead>\n",
       "  <tbody>\n",
       "    <tr>\n",
       "      <th>0</th>\n",
       "      <td>0</td>\n",
       "      <td>461259797468573697</td>\n",
       "      <td>2432293886</td>\n",
       "      <td>2014-04-29T21:44:40.000Z</td>\n",
       "      <td>Beyond the army blanket, the Finn waited at th...</td>\n",
       "      <td>en</td>\n",
       "      <td>Finn</td>\n",
       "    </tr>\n",
       "    <tr>\n",
       "      <th>1</th>\n",
       "      <td>1</td>\n",
       "      <td>461252098953576448</td>\n",
       "      <td>14482363</td>\n",
       "      <td>2014-04-29T21:14:04.000Z</td>\n",
       "      <td>♫ Just Announced: Austin, TX - Jul 18 at Black...</td>\n",
       "      <td>en</td>\n",
       "      <td>Finn</td>\n",
       "    </tr>\n",
       "    <tr>\n",
       "      <th>2</th>\n",
       "      <td>2</td>\n",
       "      <td>461233685052653568</td>\n",
       "      <td>127956375</td>\n",
       "      <td>2014-04-29T20:00:54.000Z</td>\n",
       "      <td>Finn's Reversible Bandana With Plastic Bag Poc...</td>\n",
       "      <td>en</td>\n",
       "      <td>Finn</td>\n",
       "    </tr>\n",
       "    <tr>\n",
       "      <th>3</th>\n",
       "      <td>5</td>\n",
       "      <td>461146329264046081</td>\n",
       "      <td>604765876</td>\n",
       "      <td>2014-04-29T14:13:47.000Z</td>\n",
       "      <td>Finn 2, a long haired black cheese boy, and Br...</td>\n",
       "      <td>en</td>\n",
       "      <td>Finn</td>\n",
       "    </tr>\n",
       "    <tr>\n",
       "      <th>4</th>\n",
       "      <td>6</td>\n",
       "      <td>461141522730459138</td>\n",
       "      <td>12373992</td>\n",
       "      <td>2014-04-29T13:54:41.000Z</td>\n",
       "      <td>@Finn_Mackay @fusillisara being a woman may no...</td>\n",
       "      <td>en</td>\n",
       "      <td>Finn</td>\n",
       "    </tr>\n",
       "  </tbody>\n",
       "</table>\n",
       "</div>"
      ],
      "text/plain": [
       "   Unnamed: 0            tweet_id   author_id                      date  \\\n",
       "0           0  461259797468573697  2432293886  2014-04-29T21:44:40.000Z   \n",
       "1           1  461252098953576448    14482363  2014-04-29T21:14:04.000Z   \n",
       "2           2  461233685052653568   127956375  2014-04-29T20:00:54.000Z   \n",
       "3           5  461146329264046081   604765876  2014-04-29T14:13:47.000Z   \n",
       "4           6  461141522730459138    12373992  2014-04-29T13:54:41.000Z   \n",
       "\n",
       "                                                text lang name_searched  \n",
       "0  Beyond the army blanket, the Finn waited at th...   en          Finn  \n",
       "1  ♫ Just Announced: Austin, TX - Jul 18 at Black...   en          Finn  \n",
       "2  Finn's Reversible Bandana With Plastic Bag Poc...   en          Finn  \n",
       "3  Finn 2, a long haired black cheese boy, and Br...   en          Finn  \n",
       "4  @Finn_Mackay @fusillisara being a woman may no...   en          Finn  "
      ]
     },
     "execution_count": 29,
     "metadata": {},
     "output_type": "execute_result"
    }
   ],
   "source": [
    "df = pd.read_csv('./character_tweets_english.csv')\n",
    "df.head()"
   ]
  },
  {
   "cell_type": "code",
   "execution_count": 30,
   "metadata": {},
   "outputs": [
    {
     "data": {
      "text/html": [
       "<div>\n",
       "<style scoped>\n",
       "    .dataframe tbody tr th:only-of-type {\n",
       "        vertical-align: middle;\n",
       "    }\n",
       "\n",
       "    .dataframe tbody tr th {\n",
       "        vertical-align: top;\n",
       "    }\n",
       "\n",
       "    .dataframe thead th {\n",
       "        text-align: right;\n",
       "    }\n",
       "</style>\n",
       "<table border=\"1\" class=\"dataframe\">\n",
       "  <thead>\n",
       "    <tr style=\"text-align: right;\">\n",
       "      <th></th>\n",
       "      <th>Unnamed: 0</th>\n",
       "      <th>tweet_id</th>\n",
       "      <th>author_id</th>\n",
       "      <th>date</th>\n",
       "      <th>text</th>\n",
       "      <th>lang</th>\n",
       "      <th>name_searched</th>\n",
       "      <th>scores</th>\n",
       "      <th>compound</th>\n",
       "      <th>comp_score</th>\n",
       "    </tr>\n",
       "  </thead>\n",
       "  <tbody>\n",
       "    <tr>\n",
       "      <th>0</th>\n",
       "      <td>0</td>\n",
       "      <td>461259797468573697</td>\n",
       "      <td>2432293886</td>\n",
       "      <td>2014-04-29T21:44:40.000Z</td>\n",
       "      <td>Beyond the army blanket, the Finn waited at th...</td>\n",
       "      <td>en</td>\n",
       "      <td>Finn</td>\n",
       "      <td>{'neg': 0.0, 'neu': 1.0, 'pos': 0.0, 'compound...</td>\n",
       "      <td>0.0000</td>\n",
       "      <td>neu</td>\n",
       "    </tr>\n",
       "    <tr>\n",
       "      <th>1</th>\n",
       "      <td>1</td>\n",
       "      <td>461252098953576448</td>\n",
       "      <td>14482363</td>\n",
       "      <td>2014-04-29T21:14:04.000Z</td>\n",
       "      <td>♫ Just Announced: Austin, TX - Jul 18 at Black...</td>\n",
       "      <td>en</td>\n",
       "      <td>Finn</td>\n",
       "      <td>{'neg': 0.0, 'neu': 0.756, 'pos': 0.244, 'comp...</td>\n",
       "      <td>0.4995</td>\n",
       "      <td>pos</td>\n",
       "    </tr>\n",
       "    <tr>\n",
       "      <th>2</th>\n",
       "      <td>2</td>\n",
       "      <td>461233685052653568</td>\n",
       "      <td>127956375</td>\n",
       "      <td>2014-04-29T20:00:54.000Z</td>\n",
       "      <td>Finn's Reversible Bandana With Plastic Bag Poc...</td>\n",
       "      <td>en</td>\n",
       "      <td>Finn</td>\n",
       "      <td>{'neg': 0.0, 'neu': 1.0, 'pos': 0.0, 'compound...</td>\n",
       "      <td>0.0000</td>\n",
       "      <td>neu</td>\n",
       "    </tr>\n",
       "    <tr>\n",
       "      <th>3</th>\n",
       "      <td>5</td>\n",
       "      <td>461146329264046081</td>\n",
       "      <td>604765876</td>\n",
       "      <td>2014-04-29T14:13:47.000Z</td>\n",
       "      <td>Finn 2, a long haired black cheese boy, and Br...</td>\n",
       "      <td>en</td>\n",
       "      <td>Finn</td>\n",
       "      <td>{'neg': 0.0, 'neu': 0.889, 'pos': 0.111, 'comp...</td>\n",
       "      <td>0.3612</td>\n",
       "      <td>pos</td>\n",
       "    </tr>\n",
       "    <tr>\n",
       "      <th>4</th>\n",
       "      <td>6</td>\n",
       "      <td>461141522730459138</td>\n",
       "      <td>12373992</td>\n",
       "      <td>2014-04-29T13:54:41.000Z</td>\n",
       "      <td>@Finn_Mackay @fusillisara being a woman may no...</td>\n",
       "      <td>en</td>\n",
       "      <td>Finn</td>\n",
       "      <td>{'neg': 0.0, 'neu': 0.793, 'pos': 0.207, 'comp...</td>\n",
       "      <td>0.5719</td>\n",
       "      <td>pos</td>\n",
       "    </tr>\n",
       "  </tbody>\n",
       "</table>\n",
       "</div>"
      ],
      "text/plain": [
       "   Unnamed: 0            tweet_id   author_id                      date  \\\n",
       "0           0  461259797468573697  2432293886  2014-04-29T21:44:40.000Z   \n",
       "1           1  461252098953576448    14482363  2014-04-29T21:14:04.000Z   \n",
       "2           2  461233685052653568   127956375  2014-04-29T20:00:54.000Z   \n",
       "3           5  461146329264046081   604765876  2014-04-29T14:13:47.000Z   \n",
       "4           6  461141522730459138    12373992  2014-04-29T13:54:41.000Z   \n",
       "\n",
       "                                                text lang name_searched  \\\n",
       "0  Beyond the army blanket, the Finn waited at th...   en          Finn   \n",
       "1  ♫ Just Announced: Austin, TX - Jul 18 at Black...   en          Finn   \n",
       "2  Finn's Reversible Bandana With Plastic Bag Poc...   en          Finn   \n",
       "3  Finn 2, a long haired black cheese boy, and Br...   en          Finn   \n",
       "4  @Finn_Mackay @fusillisara being a woman may no...   en          Finn   \n",
       "\n",
       "                                              scores  compound comp_score  \n",
       "0  {'neg': 0.0, 'neu': 1.0, 'pos': 0.0, 'compound...    0.0000        neu  \n",
       "1  {'neg': 0.0, 'neu': 0.756, 'pos': 0.244, 'comp...    0.4995        pos  \n",
       "2  {'neg': 0.0, 'neu': 1.0, 'pos': 0.0, 'compound...    0.0000        neu  \n",
       "3  {'neg': 0.0, 'neu': 0.889, 'pos': 0.111, 'comp...    0.3612        pos  \n",
       "4  {'neg': 0.0, 'neu': 0.793, 'pos': 0.207, 'comp...    0.5719        pos  "
      ]
     },
     "execution_count": 30,
     "metadata": {},
     "output_type": "execute_result"
    }
   ],
   "source": [
    "df['scores'] = df['text'].apply(lambda review: sid.polarity_scores(review))\n",
    "df['compound']  = df['scores'].apply(lambda score_dict: score_dict['compound'])\n",
    "df['comp_score'] = df['compound'].apply(lambda c: 'pos' if c >0 else ('neg' if c < 0 else 'neu'))\n",
    "\n",
    "df.head()"
   ]
  },
  {
   "cell_type": "code",
   "execution_count": 31,
   "metadata": {},
   "outputs": [
    {
     "data": {
      "text/plain": [
       "pos    2915\n",
       "neg    2907\n",
       "neu    2340\n",
       "Name: comp_score, dtype: int64"
      ]
     },
     "execution_count": 31,
     "metadata": {},
     "output_type": "execute_result"
    }
   ],
   "source": [
    "df['comp_score'].value_counts()"
   ]
  }
 ],
 "metadata": {
  "kernelspec": {
   "display_name": "Python 3",
   "language": "python",
   "name": "python3"
  },
  "language_info": {
   "codemirror_mode": {
    "name": "ipython",
    "version": 3
   },
   "file_extension": ".py",
   "mimetype": "text/x-python",
   "name": "python",
   "nbconvert_exporter": "python",
   "pygments_lexer": "ipython3",
   "version": "3.6.8"
  }
 },
 "nbformat": 4,
 "nbformat_minor": 2
}
